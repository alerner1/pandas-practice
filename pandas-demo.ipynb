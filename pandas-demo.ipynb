{
 "metadata": {
  "language_info": {
   "codemirror_mode": {
    "name": "ipython",
    "version": 3
   },
   "file_extension": ".py",
   "mimetype": "text/x-python",
   "name": "python",
   "nbconvert_exporter": "python",
   "pygments_lexer": "ipython3",
   "version": "3.7.10"
  },
  "orig_nbformat": 2,
  "kernelspec": {
   "name": "python3710jvsc74a57bd0f3e0cf3437ca987eea5f98b461d27a2ea66497ce9851cfd1270561ab09f0a8fd",
   "display_name": "Python 3.7.10 64-bit ('pandas-practice': pyenv)"
  },
  "metadata": {
   "interpreter": {
    "hash": "f3e0cf3437ca987eea5f98b461d27a2ea66497ce9851cfd1270561ab09f0a8fd"
   }
  }
 },
 "nbformat": 4,
 "nbformat_minor": 2,
 "cells": [
  {
   "source": [
    "import pandas as pd\n"
   ],
   "cell_type": "code",
   "metadata": {},
   "execution_count": 1,
   "outputs": []
  },
  {
   "cell_type": "code",
   "execution_count": 2,
   "metadata": {},
   "outputs": [],
   "source": [
    "df19 = pd.read_csv('data/developer_survey_2019/survey_results_public.csv')"
   ]
  },
  {
   "cell_type": "code",
   "execution_count": 3,
   "metadata": {},
   "outputs": [],
   "source": [
    "df20 = pd.read_csv('data/developer_survey_2020/survey_results_public.csv')"
   ]
  },
  {
   "cell_type": "code",
   "execution_count": 4,
   "metadata": {},
   "outputs": [
    {
     "output_type": "execute_result",
     "data": {
      "text/plain": [
       "(88883, 85)"
      ]
     },
     "metadata": {},
     "execution_count": 4
    }
   ],
   "source": [
    "df19.shape"
   ]
  },
  {
   "cell_type": "code",
   "execution_count": 5,
   "metadata": {},
   "outputs": [
    {
     "output_type": "execute_result",
     "data": {
      "text/plain": [
       "(64461, 61)"
      ]
     },
     "metadata": {},
     "execution_count": 5
    }
   ],
   "source": [
    "df20.shape"
   ]
  },
  {
   "cell_type": "code",
   "execution_count": 8,
   "metadata": {},
   "outputs": [
    {
     "output_type": "stream",
     "name": "stdout",
     "text": [
      "<class 'pandas.core.frame.DataFrame'>\nRangeIndex: 88883 entries, 0 to 88882\nData columns (total 85 columns):\nRespondent                88883 non-null int64\nMainBranch                88331 non-null object\nHobbyist                  88883 non-null object\nOpenSourcer               88883 non-null object\nOpenSource                86842 non-null object\nEmployment                87181 non-null object\nCountry                   88751 non-null object\nStudent                   87014 non-null object\nEdLevel                   86390 non-null object\nUndergradMajor            75614 non-null object\nEduOther                  84260 non-null object\nOrgSize                   71791 non-null object\nDevType                   81335 non-null object\nYearsCode                 87938 non-null object\nAge1stCode                87634 non-null object\nYearsCodePro              74331 non-null object\nCareerSat                 72847 non-null object\nJobSat                    70988 non-null object\nMgrIdiot                  61159 non-null object\nMgrMoney                  61157 non-null object\nMgrWant                   61232 non-null object\nJobSeek                   80555 non-null object\nLastHireDate              79854 non-null object\nLastInt                   67155 non-null object\nFizzBuzz                  71344 non-null object\nJobFactors                79371 non-null object\nResumeUpdate              77877 non-null object\nCurrencySymbol            71392 non-null object\nCurrencyDesc              71392 non-null object\nCompTotal                 55945 non-null float64\nCompFreq                  63268 non-null object\nConvertedComp             55823 non-null float64\nWorkWeekHrs               64503 non-null float64\nWorkPlan                  68914 non-null object\nWorkChallenge             68141 non-null object\nWorkRemote                70284 non-null object\nWorkLoc                   70055 non-null object\nImpSyn                    71779 non-null object\nCodeRev                   70390 non-null object\nCodeRevHrs                49790 non-null float64\nUnitTests                 62668 non-null object\nPurchaseHow               61108 non-null object\nPurchaseWhat              62029 non-null object\nLanguageWorkedWith        87569 non-null object\nLanguageDesireNextYear    84088 non-null object\nDatabaseWorkedWith        76026 non-null object\nDatabaseDesireNextYear    69147 non-null object\nPlatformWorkedWith        80714 non-null object\nPlatformDesireNextYear    77443 non-null object\nWebFrameWorkedWith        65022 non-null object\nWebFrameDesireNextYear    62944 non-null object\nMiscTechWorkedWith        59586 non-null object\nMiscTechDesireNextYear    64511 non-null object\nDevEnviron                87317 non-null object\nOpSys                     87851 non-null object\nContainers                85366 non-null object\nBlockchainOrg             48175 non-null object\nBlockchainIs              60165 non-null object\nBetterLife                86269 non-null object\nITperson                  87141 non-null object\nOffOn                     86663 non-null object\nSocialMedia               84437 non-null object\nExtraversion              87305 non-null object\nScreenName                80486 non-null object\nSOVisit1st                83877 non-null object\nSOVisitFreq               88263 non-null object\nSOVisitTo                 88086 non-null object\nSOFindAnswer              87816 non-null object\nSOTimeSaved               86344 non-null object\nSOHowMuchTime             68378 non-null object\nSOAccount                 87828 non-null object\nSOPartFreq                74692 non-null object\nSOJobs                    88066 non-null object\nEntTeams                  87841 non-null object\nSOComm                    88131 non-null object\nWelcomeChange             85855 non-null object\nSONewContent              69560 non-null object\nAge                       79210 non-null float64\nGender                    85406 non-null object\nTrans                     83607 non-null object\nSexuality                 76147 non-null object\nEthnicity                 76668 non-null object\nDependents                83059 non-null object\nSurveyLength              86984 non-null object\nSurveyEase                87081 non-null object\ndtypes: float64(5), int64(1), object(79)\nmemory usage: 57.6+ MB\n"
     ]
    }
   ],
   "source": [
    "df19.info()"
   ]
  },
  {
   "cell_type": "code",
   "execution_count": 9,
   "metadata": {},
   "outputs": [
    {
     "output_type": "stream",
     "name": "stdout",
     "text": [
      "<class 'pandas.core.frame.DataFrame'>\nRangeIndex: 64461 entries, 0 to 64460\nData columns (total 61 columns):\nRespondent                      64461 non-null int64\nMainBranch                      64162 non-null object\nHobbyist                        64416 non-null object\nAge                             45446 non-null float64\nAge1stCode                      57900 non-null object\nCompFreq                        40069 non-null object\nCompTotal                       34826 non-null float64\nConvertedComp                   34756 non-null float64\nCountry                         64072 non-null object\nCurrencyDesc                    45472 non-null object\nCurrencySymbol                  45472 non-null object\nDatabaseDesireNextYear          44070 non-null object\nDatabaseWorkedWith              49537 non-null object\nDevType                         49370 non-null object\nEdLevel                         57431 non-null object\nEmployment                      63854 non-null object\nEthnicity                       45948 non-null object\nGender                          50557 non-null object\nJobFactors                      49349 non-null object\nJobSat                          45194 non-null object\nJobSeek                         51727 non-null object\nLanguageDesireNextYear          54113 non-null object\nLanguageWorkedWith              57378 non-null object\nMiscTechDesireNextYear          42379 non-null object\nMiscTechWorkedWith              40314 non-null object\nNEWCollabToolsDesireNextYear    47287 non-null object\nNEWCollabToolsWorkedWith        52883 non-null object\nNEWDevOps                       42686 non-null object\nNEWDevOpsImpt                   41732 non-null object\nNEWEdImpt                       48465 non-null object\nNEWJobHunt                      42286 non-null object\nNEWJobHuntResearch              41022 non-null object\nNEWLearn                        56156 non-null object\nNEWOffTopic                     50804 non-null object\nNEWOnboardGood                  42623 non-null object\nNEWOtherComms                   57205 non-null object\nNEWOvertime                     43231 non-null object\nNEWPurchaseResearch             37321 non-null object\nNEWPurpleLink                   54803 non-null object\nNEWSOSites                      58275 non-null object\nNEWStuck                        54983 non-null object\nOpSys                           56228 non-null object\nOrgSize                         44334 non-null object\nPlatformDesireNextYear          50605 non-null object\nPlatformWorkedWith              53843 non-null object\nPurchaseWhat                    39364 non-null object\nSexuality                       43992 non-null object\nSOAccount                       56805 non-null object\nSOComm                          56476 non-null object\nSOPartFreq                      46792 non-null object\nSOVisitFreq                     56970 non-null object\nSurveyEase                      51802 non-null object\nSurveyLength                    51701 non-null object\nTrans                           49345 non-null object\nUndergradMajor                  50995 non-null object\nWebframeDesireNextYear          40024 non-null object\nWebframeWorkedWith              42279 non-null object\nWelcomeChange                   52683 non-null object\nWorkWeekHrs                     41151 non-null float64\nYearsCode                       57684 non-null object\nYearsCodePro                    46349 non-null object\ndtypes: float64(4), int64(1), object(56)\nmemory usage: 30.0+ MB\n"
     ]
    }
   ],
   "source": [
    "df20.info()"
   ]
  },
  {
   "cell_type": "code",
   "execution_count": null,
   "metadata": {},
   "outputs": [],
   "source": []
  }
 ]
}